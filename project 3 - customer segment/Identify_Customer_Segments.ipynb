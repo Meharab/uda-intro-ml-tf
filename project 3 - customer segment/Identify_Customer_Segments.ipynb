{
 "cells": [
  {
   "cell_type": "markdown",
   "metadata": {},
   "source": [
    "# Project: Identify Customer Segments\n",
    "\n",
    "In this project, you will apply unsupervised learning techniques to identify segments of the population that form the core customer base for a mail-order sales company in Germany. These segments can then be used to direct marketing campaigns towards audiences that will have the highest expected rate of returns. The data that you will use has been provided by our partners at Bertelsmann Arvato Analytics, and represents a real-life data science task.\n",
    "\n",
    "This notebook will help you complete this task by providing a framework within which you will perform your analysis steps. In each step of the project, you will see some text describing the subtask that you will perform, followed by one or more code cells for you to complete your work. **Feel free to add additional code and markdown cells as you go along so that you can explore everything in precise chunks.** The code cells provided in the base template will outline only the major tasks, and will usually not be enough to cover all of the minor tasks that comprise it.\n",
    "\n",
    "It should be noted that while there will be precise guidelines on how you should handle certain tasks in the project, there will also be places where an exact specification is not provided. **There will be times in the project where you will need to make and justify your own decisions on how to treat the data.** These are places where there may not be only one way to handle the data. In real-life tasks, there may be many valid ways to approach an analysis task. One of the most important things you can do is clearly document your approach so that other scientists can understand the decisions you've made.\n",
    "\n",
    "At the end of most sections, there will be a Markdown cell labeled **Discussion**. In these cells, you will report your findings for the completed section, as well as document the decisions that you made in your approach to each subtask. **Your project will be evaluated not just on the code used to complete the tasks outlined, but also your communication about your observations and conclusions at each stage.**"
   ]
  },
  {
   "cell_type": "code",
   "execution_count": 201,
   "metadata": {},
   "outputs": [
    {
     "data": {
      "text/plain": [
       "'\\nImport note: The classroom currently uses sklearn version 0.19.\\nIf you need to use an imputer, it is available in sklearn.preprocessing.Imputer,\\ninstead of sklearn.impute as in newer versions of sklearn.\\n'"
      ]
     },
     "execution_count": 201,
     "metadata": {},
     "output_type": "execute_result"
    }
   ],
   "source": [
    "# import libraries here; add more as necessary\n",
    "import numpy as np\n",
    "import pandas as pd\n",
    "import matplotlib.pyplot as plt\n",
    "import seaborn as sns\n",
    "from sklearn.preprocessing import Imputer, StandardScaler\n",
    "from sklearn.decomposition import PCA\n",
    "from sklearn.cluster import KMeans\n",
    "\n",
    "# magic word for producing visualizations in notebook\n",
    "%matplotlib inline\n",
    "\n",
    "\n",
    "'''\n",
    "Import note: The classroom currently uses sklearn version 0.19.\n",
    "If you need to use an imputer, it is available in sklearn.preprocessing.Imputer,\n",
    "instead of sklearn.impute as in newer versions of sklearn.\n",
    "'''"
   ]
  },
  {
   "cell_type": "markdown",
   "metadata": {},
   "source": [
    "### Step 0: Load the Data\n",
    "\n",
    "There are four files associated with this project (not including this one):\n",
    "\n",
    "- `Udacity_AZDIAS_Subset.csv`: Demographics data for the general population of Germany; 891211 persons (rows) x 85 features (columns).\n",
    "- `Udacity_CUSTOMERS_Subset.csv`: Demographics data for customers of a mail-order company; 191652 persons (rows) x 85 features (columns).\n",
    "- `Data_Dictionary.md`: Detailed information file about the features in the provided datasets.\n",
    "- `AZDIAS_Feature_Summary.csv`: Summary of feature attributes for demographics data; 85 features (rows) x 4 columns\n",
    "\n",
    "Each row of the demographics files represents a single person, but also includes information outside of individuals, including information about their household, building, and neighborhood. You will use this information to cluster the general population into groups with similar demographic properties. Then, you will see how the people in the customers dataset fit into those created clusters. The hope here is that certain clusters are over-represented in the customers data, as compared to the general population; those over-represented clusters will be assumed to be part of the core userbase. This information can then be used for further applications, such as targeting for a marketing campaign.\n",
    "\n",
    "To start off with, load in the demographics data for the general population into a pandas DataFrame, and do the same for the feature attributes summary. Note for all of the `.csv` data files in this project: they're semicolon (`;`) delimited, so you'll need an additional argument in your [`read_csv()`](https://pandas.pydata.org/pandas-docs/stable/generated/pandas.read_csv.html) call to read in the data properly. Also, considering the size of the main dataset, it may take some time for it to load completely.\n",
    "\n",
    "Once the dataset is loaded, it's recommended that you take a little bit of time just browsing the general structure of the dataset and feature summary file. You'll be getting deep into the innards of the cleaning in the first major step of the project, so gaining some general familiarity can help you get your bearings."
   ]
  },
  {
   "cell_type": "code",
   "execution_count": 202,
   "metadata": {},
   "outputs": [],
   "source": [
    "# Load in the general demographics data.\n",
    "azdias = pd.read_csv('Udacity_AZDIAS_Subset.csv', sep=';')\n",
    "#df = azdias.copy() # temp, I keep changing azdias and need to get back to its original sometimes :)\n",
    "\n",
    "# Load in the feature summary file.\n",
    "feat_info = pd.read_csv('AZDIAS_Feature_Summary.csv', sep=';')"
   ]
  },
  {
   "cell_type": "code",
   "execution_count": 203,
   "metadata": {},
   "outputs": [
    {
     "name": "stdout",
     "output_type": "stream",
     "text": [
      "(891221, 85)\n",
      "   AGER_TYP  ALTERSKATEGORIE_GROB  ANREDE_KZ  CJT_GESAMTTYP  \\\n",
      "0        -1                     2          1            2.0   \n",
      "1        -1                     1          2            5.0   \n",
      "2        -1                     3          2            3.0   \n",
      "3         2                     4          2            2.0   \n",
      "4        -1                     3          1            5.0   \n",
      "\n",
      "   FINANZ_MINIMALIST  FINANZ_SPARER  FINANZ_VORSORGER  FINANZ_ANLEGER  \\\n",
      "0                  3              4                 3               5   \n",
      "1                  1              5                 2               5   \n",
      "2                  1              4                 1               2   \n",
      "3                  4              2                 5               2   \n",
      "4                  4              3                 4               1   \n",
      "\n",
      "   FINANZ_UNAUFFAELLIGER  FINANZ_HAUSBAUER    ...     PLZ8_ANTG1  PLZ8_ANTG2  \\\n",
      "0                      5                 3    ...            NaN         NaN   \n",
      "1                      4                 5    ...            2.0         3.0   \n",
      "2                      3                 5    ...            3.0         3.0   \n",
      "3                      1                 2    ...            2.0         2.0   \n",
      "4                      3                 2    ...            2.0         4.0   \n",
      "\n",
      "   PLZ8_ANTG3  PLZ8_ANTG4  PLZ8_BAUMAX  PLZ8_HHZ  PLZ8_GBZ  ARBEIT  \\\n",
      "0         NaN         NaN          NaN       NaN       NaN     NaN   \n",
      "1         2.0         1.0          1.0       5.0       4.0     3.0   \n",
      "2         1.0         0.0          1.0       4.0       4.0     3.0   \n",
      "3         2.0         0.0          1.0       3.0       4.0     2.0   \n",
      "4         2.0         1.0          2.0       3.0       3.0     4.0   \n",
      "\n",
      "   ORTSGR_KLS9  RELAT_AB  \n",
      "0          NaN       NaN  \n",
      "1          5.0       4.0  \n",
      "2          5.0       2.0  \n",
      "3          3.0       3.0  \n",
      "4          6.0       5.0  \n",
      "\n",
      "[5 rows x 85 columns]\n"
     ]
    }
   ],
   "source": [
    "# Check the structure of the data after it's loaded (e.g. print the number of\n",
    "# rows and columns, print the first few rows).\n",
    "print(azdias.shape)\n",
    "print(azdias.head())"
   ]
  },
  {
   "cell_type": "code",
   "execution_count": 204,
   "metadata": {},
   "outputs": [
    {
     "name": "stdout",
     "output_type": "stream",
     "text": [
      "(85, 4)\n",
      "              attribute information_level         type missing_or_unknown\n",
      "0              AGER_TYP            person  categorical             [-1,0]\n",
      "1  ALTERSKATEGORIE_GROB            person      ordinal           [-1,0,9]\n",
      "2             ANREDE_KZ            person  categorical             [-1,0]\n",
      "3         CJT_GESAMTTYP            person  categorical                [0]\n",
      "4     FINANZ_MINIMALIST            person      ordinal               [-1]\n"
     ]
    }
   ],
   "source": [
    "print(feat_info.shape)\n",
    "print(feat_info.head())"
   ]
  },
  {
   "cell_type": "markdown",
   "metadata": {},
   "source": [
    "> **Tip**: Add additional cells to keep everything in reasonably-sized chunks! Keyboard shortcut `esc --> a` (press escape to enter command mode, then press the 'A' key) adds a new cell before the active cell, and `esc --> b` adds a new cell after the active cell. If you need to convert an active cell to a markdown cell, use `esc --> m` and to convert to a code cell, use `esc --> y`. \n",
    "\n",
    "## Step 1: Preprocessing\n",
    "\n",
    "### Step 1.1: Assess Missing Data\n",
    "\n",
    "The feature summary file contains a summary of properties for each demographics data column. You will use this file to help you make cleaning decisions during this stage of the project. First of all, you should assess the demographics data in terms of missing data. Pay attention to the following points as you perform your analysis, and take notes on what you observe. Make sure that you fill in the **Discussion** cell with your findings and decisions at the end of each step that has one!\n",
    "\n",
    "#### Step 1.1.1: Convert Missing Value Codes to NaNs\n",
    "The fourth column of the feature attributes summary (loaded in above as `feat_info`) documents the codes from the data dictionary that indicate missing or unknown data. While the file encodes this as a list (e.g. `[-1,0]`), this will get read in as a string object. You'll need to do a little bit of parsing to make use of it to identify and clean the data. Convert data that matches a 'missing' or 'unknown' value code into a numpy NaN value. You might want to see how much data takes on a 'missing' or 'unknown' code, and how much data is naturally missing, as a point of interest.\n",
    "\n",
    "**As one more reminder, you are encouraged to add additional cells to break up your analysis into manageable chunks.**"
   ]
  },
  {
   "cell_type": "code",
   "execution_count": 205,
   "metadata": {},
   "outputs": [],
   "source": [
    "# Identify missing or unknown data values and convert them to NaNs.\n",
    "naturally_missing = azdias.isnull().sum().sum() # wow, 4896838 missing entries to start with"
   ]
  },
  {
   "cell_type": "code",
   "execution_count": 206,
   "metadata": {},
   "outputs": [],
   "source": [
    "# process the missing_or_unknown string into an array\n",
    "feat_info['missing_or_unknown'] = feat_info['missing_or_unknown'].apply(lambda x: x.replace('[', '').replace(']', '').split(','))"
   ]
  },
  {
   "cell_type": "code",
   "execution_count": 207,
   "metadata": {},
   "outputs": [
    {
     "data": {
      "text/plain": [
       "3477091"
      ]
     },
     "execution_count": 207,
     "metadata": {},
     "output_type": "execute_result"
    }
   ],
   "source": [
    "# for each column, get a count of how many rows contain that column's missing/unknown code,\n",
    "# and  replace all those codes with NaN\n",
    "mis_or_unk_count = 0\n",
    "\n",
    "for col in azdias.columns:\n",
    "    codes = feat_info[feat_info['attribute'] == col]['missing_or_unknown'].iloc[0]\n",
    "    mis_or_unk_count += azdias[col].isin(codes).sum()\n",
    "    azdias.loc[azdias[col].isin(codes), col] = np.nan\n",
    "    \n",
    "mis_or_unk_count # and 3477091 entries whose code indicates missing or unknown data"
   ]
  },
  {
   "cell_type": "code",
   "execution_count": 208,
   "metadata": {},
   "outputs": [],
   "source": [
    "post_process_missing = azdias.isnull().sum().sum() # now it's 8373929"
   ]
  },
  {
   "cell_type": "code",
   "execution_count": 209,
   "metadata": {},
   "outputs": [
    {
     "data": {
      "text/plain": [
       "True"
      ]
     },
     "execution_count": 209,
     "metadata": {},
     "output_type": "execute_result"
    }
   ],
   "source": [
    "# post_process_missing should account for the values that were null originally\n",
    "# as well as the now replaced missing/unknown codes\n",
    "post_process_missing == mis_or_unk_count + naturally_missing"
   ]
  },
  {
   "cell_type": "markdown",
   "metadata": {},
   "source": [
    "#### Step 1.1.2: Assess Missing Data in Each Column\n",
    "\n",
    "How much missing data is present in each column? There are a few columns that are outliers in terms of the proportion of values that are missing. You will want to use matplotlib's [`hist()`](https://matplotlib.org/api/_as_gen/matplotlib.pyplot.hist.html) function to visualize the distribution of missing value counts to find these columns. Identify and document these columns. While some of these columns might have justifications for keeping or re-encoding the data, for this project you should just remove them from the dataframe. (Feel free to make remarks about these outlier columns in the discussion, however!)\n",
    "\n",
    "For the remaining features, are there any patterns in which columns have, or share, missing data?"
   ]
  },
  {
   "cell_type": "code",
   "execution_count": 210,
   "metadata": {},
   "outputs": [
    {
     "data": {
      "text/plain": [
       "<matplotlib.axes._subplots.AxesSubplot at 0x7fe84d651cc0>"
      ]
     },
     "execution_count": 210,
     "metadata": {},
     "output_type": "execute_result"
    },
    {
     "data": {
      "image/png": "[encoded data removed]",
      "text/plain": [
       "<matplotlib.figure.Figure at 0x7fe86803cb38>"
      ]
     },
     "metadata": {
      "needs_background": "light"
     },
     "output_type": "display_data"
    }
   ],
   "source": [
    "azdias.isnull().sum().sort_values(ascending=False).hist()"
   ]
  },
  {
   "cell_type": "code",
   "execution_count": 211,
   "metadata": {},
   "outputs": [],
   "source": [
    "all_columns = azdias.columns"
   ]
  },
  {
   "cell_type": "code",
   "execution_count": 212,
   "metadata": {},
   "outputs": [],
   "source": [
    "# the histogram above indicates that most columns are missing less than 200000 records\n",
    "# we'll remove those that are missing more\n",
    "azdias.dropna(thresh=len(azdias) - 200000, axis=1, inplace=True)"
   ]
  },
  {
   "cell_type": "code",
   "execution_count": 213,
   "metadata": {},
   "outputs": [
    {
     "data": {
      "text/plain": [
       "['GEBURTSJAHR',\n",
       " 'ALTER_HH',\n",
       " 'AGER_TYP',\n",
       " 'KK_KUNDENTYP',\n",
       " 'TITEL_KZ',\n",
       " 'KBA05_BAUMAX']"
      ]
     },
     "execution_count": 213,
     "metadata": {},
     "output_type": "execute_result"
    }
   ],
   "source": [
    "cols_removed = list(set(all_columns) - set(azdias.columns))\n",
    "cols_removed"
   ]
  },
  {
   "cell_type": "code",
   "execution_count": 214,
   "metadata": {},
   "outputs": [],
   "source": [
    "feat_info.drop(feat_info.loc[feat_info['attribute'].isin(cols_removed)].index, inplace=True)"
   ]
  },
  {
   "cell_type": "code",
   "execution_count": 215,
   "metadata": {},
   "outputs": [
    {
     "data": {
      "text/plain": [
       "KKK                      0.177357\n",
       "REGIOTYP                 0.177357\n",
       "W_KEIT_KIND_HH           0.166051\n",
       "MOBI_REGIO               0.149597\n",
       "KBA05_ANTG4              0.149597\n",
       "KBA05_ANTG3              0.149597\n",
       "KBA05_ANTG2              0.149597\n",
       "KBA05_ANTG1              0.149597\n",
       "KBA05_GBZ                0.149597\n",
       "PLZ8_ANTG2               0.130736\n",
       "PLZ8_ANTG1               0.130736\n",
       "PLZ8_ANTG3               0.130736\n",
       "PLZ8_ANTG4               0.130736\n",
       "PLZ8_BAUMAX              0.130736\n",
       "PLZ8_HHZ                 0.130736\n",
       "PLZ8_GBZ                 0.130736\n",
       "HEALTH_TYP               0.124768\n",
       "SHOPPER_TYP              0.124768\n",
       "VERS_TYP                 0.124768\n",
       "NATIONALITAET_KZ         0.121536\n",
       "PRAEGENDE_JUGENDJAHRE    0.121366\n",
       "KBA13_ANZAHL_PKW         0.118714\n",
       "ANZ_HAUSHALTE_AKTIV      0.111769\n",
       "CAMEO_INTL_2015          0.111479\n",
       "CAMEO_DEU_2015           0.111479\n",
       "CAMEO_DEUG_2015          0.111479\n",
       "LP_LEBENSPHASE_FEIN      0.109549\n",
       "RELAT_AB                 0.109260\n",
       "ARBEIT                   0.109260\n",
       "ORTSGR_KLS9              0.109147\n",
       "                           ...   \n",
       "GFK_URLAUBERTYP          0.005446\n",
       "RETOURTYP_BK_S           0.005446\n",
       "ONLINE_AFFINITAET        0.005446\n",
       "LP_STATUS_FEIN           0.005446\n",
       "LP_STATUS_GROB           0.005446\n",
       "ALTERSKATEGORIE_GROB     0.003233\n",
       "SEMIO_FAM                0.000000\n",
       "SEMIO_SOZ                0.000000\n",
       "ANREDE_KZ                0.000000\n",
       "SEMIO_TRADV              0.000000\n",
       "FINANZ_MINIMALIST        0.000000\n",
       "FINANZ_SPARER            0.000000\n",
       "FINANZ_VORSORGER         0.000000\n",
       "FINANZ_ANLEGER           0.000000\n",
       "FINANZ_UNAUFFAELLIGER    0.000000\n",
       "FINANZ_HAUSBAUER         0.000000\n",
       "FINANZTYP                0.000000\n",
       "SEMIO_PFLICHT            0.000000\n",
       "GREEN_AVANTGARDE         0.000000\n",
       "SEMIO_KAEM               0.000000\n",
       "SEMIO_DOM                0.000000\n",
       "SEMIO_KRIT               0.000000\n",
       "SEMIO_RAT                0.000000\n",
       "SEMIO_KULT               0.000000\n",
       "SEMIO_ERL                0.000000\n",
       "SEMIO_LUST               0.000000\n",
       "SEMIO_VERT               0.000000\n",
       "SEMIO_MAT                0.000000\n",
       "SEMIO_REL                0.000000\n",
       "ZABEOTYP                 0.000000\n",
       "Length: 79, dtype: float64"
      ]
     },
     "execution_count": 215,
     "metadata": {},
     "output_type": "execute_result"
    }
   ],
   "source": [
    "azdias.isnull().sum().sort_values(ascending=False) / azdias.shape[0]"
   ]
  },
  {
   "cell_type": "code",
   "execution_count": 216,
   "metadata": {},
   "outputs": [
    {
     "data": {
      "text/plain": [
       "0         24\n",
       "116515     7\n",
       "4854       6\n",
       "133324     6\n",
       "93148      4\n",
       "73499      4\n",
       "111196     3\n",
       "99352      3\n",
       "93740      3\n",
       "77792      2\n",
       "97375      2\n",
       "158064     2\n",
       "97632      1\n",
       "93155      1\n",
       "94572      1\n",
       "105800     1\n",
       "2881       1\n",
       "18348      1\n",
       "97008      1\n",
       "108315     1\n",
       "73969      1\n",
       "99611      1\n",
       "147988     1\n",
       "108164     1\n",
       "97274      1\n",
       "dtype: int64"
      ]
     },
     "execution_count": 216,
     "metadata": {},
     "output_type": "execute_result"
    }
   ],
   "source": [
    "# Investigate patterns in the amount of missing data in each column.\n",
    "azdias.isnull().sum().value_counts()"
   ]
  },
  {
   "cell_type": "markdown",
   "metadata": {},
   "source": [
    "#### Discussion 1.1.2: Assess Missing Data in Each Column\n",
    "\n",
    "We see from the null value counts above that there are 24 columns missing no data which is a great sign. However, there were 6 columns that were missing over 200,000 values - that's over 20% of the length of the dataset, so I chose to drop them.\n",
    "Those columns were: KK_KUNDENTYP, AGER_TYP, ALTER_HH, TITEL_KZ, KBA05_BAUMAX, and GEBURTSJAHR. \n",
    "\n",
    "Fortunately, the data in GEBURTSJAHR (birthyear) is recoverable from the ALTERSKATEGORIE_GROB column, giving an estimated age range for the individual.\n",
    "\n",
    "After removing those columns, I found two prominent patterns in columns missing data, though there are likely more patterns to be found.\n",
    "\n",
    "First, the 7 columns prefixed with PLZ8_ were all missing 116,515 values.\n",
    "\n",
    "Second, the 6 columns prefixed with KBA05_ were all missing 133,324 values.\n",
    "\n",
    "All 13 of these columns deal with the number of buildings in the individuals region or 'microcell' -- frankly, I'm not too worried about the information in these columns being missing."
   ]
  },
  {
   "cell_type": "markdown",
   "metadata": {},
   "source": [
    "#### Step 1.1.3: Assess Missing Data in Each Row\n",
    "\n",
    "Now, you'll perform a similar assessment for the rows of the dataset. How much data is missing in each row? As with the columns, you should see some groups of points that have a very different numbers of missing values. Divide the data into two subsets: one for data points that are above some threshold for missing values, and a second subset for points below that threshold.\n",
    "\n",
    "In order to know what to do with the outlier rows, we should see if the distribution of data values on columns that are not missing data (or are missing very little data) are similar or different between the two groups. Select at least five of these columns and compare the distribution of values.\n",
    "- You can use seaborn's [`countplot()`](https://seaborn.pydata.org/generated/seaborn.countplot.html) function to create a bar chart of code frequencies and matplotlib's [`subplot()`](https://matplotlib.org/api/_as_gen/matplotlib.pyplot.subplot.html) function to put bar charts for the two subplots side by side.\n",
    "- To reduce repeated code, you might want to write a function that can perform this comparison, taking as one of its arguments a column to be compared.\n",
    "\n",
    "Depending on what you observe in your comparison, this will have implications on how you approach your conclusions later in the analysis. If the distributions of non-missing features look similar between the data with many missing values and the data with few or no missing values, then we could argue that simply dropping those points from the analysis won't present a major issue. On the other hand, if the data with many missing values looks very different from the data with few or no missing values, then we should make a note on those data as special. We'll revisit these data later on. **Either way, you should continue your analysis for now using just the subset of the data with few or no missing values.**"
   ]
  },
  {
   "cell_type": "code",
   "execution_count": 217,
   "metadata": {},
   "outputs": [
    {
     "data": {
      "text/plain": [
       "<matplotlib.axes._subplots.AxesSubplot at 0x7fe84d9f8e10>"
      ]
     },
     "execution_count": 217,
     "metadata": {},
     "output_type": "execute_result"
    },
    {
     "data": {
      "image/png": "[encoded data removed]",
      "text/plain": [
       "<matplotlib.figure.Figure at 0x7fe84d6682e8>"
      ]
     },
     "metadata": {
      "needs_background": "light"
     },
     "output_type": "display_data"
    }
   ],
   "source": [
    "# How much data is missing in each row of the dataset?\n",
    "azdias.isnull().sum(axis=1).sort_values(ascending=False).hist()\n",
    "# looks like a reasonable separator is >20 missing values"
   ]
  },
  {
   "cell_type": "code",
   "execution_count": 218,
   "metadata": {},
   "outputs": [],
   "source": [
    "# Write code to divide the data into two subsets based on the number of missing\n",
    "# values in each row.\n",
    "df_missing_data = azdias.loc[azdias.isnull().sum(axis=1).sort_values(ascending=False) > 20]\n",
    "azdias = azdias.loc[azdias.isnull().sum(axis=1).sort_values(ascending=False) <= 20]"
   ]
  },
  {
   "cell_type": "code",
   "execution_count": 219,
   "metadata": {},
   "outputs": [
    {
     "data": {
      "text/html": [
       "<div>\n",
       "<style scoped>\n",
       "    .dataframe tbody tr th:only-of-type {\n",
       "        vertical-align: middle;\n",
       "    }\n",
       "\n",
       "    .dataframe tbody tr th {\n",
       "        vertical-align: top;\n",
       "    }\n",
       "\n",
       "    .dataframe thead th {\n",
       "        text-align: right;\n",
       "    }\n",
       "</style>\n",
       "<table border=\"1\" class=\"dataframe\">\n",
       "  <thead>\n",
       "    <tr style=\"text-align: right;\">\n",
       "      <th></th>\n",
       "      <th>ALTERSKATEGORIE_GROB</th>\n",
       "      <th>ANREDE_KZ</th>\n",
       "      <th>CJT_GESAMTTYP</th>\n",
       "      <th>FINANZ_MINIMALIST</th>\n",
       "      <th>FINANZ_SPARER</th>\n",
       "      <th>FINANZ_VORSORGER</th>\n",
       "      <th>FINANZ_ANLEGER</th>\n",
       "      <th>FINANZ_UNAUFFAELLIGER</th>\n",
       "      <th>FINANZ_HAUSBAUER</th>\n",
       "      <th>FINANZTYP</th>\n",
       "      <th>...</th>\n",
       "      <th>PLZ8_ANTG1</th>\n",
       "      <th>PLZ8_ANTG2</th>\n",
       "      <th>PLZ8_ANTG3</th>\n",
       "      <th>PLZ8_ANTG4</th>\n",
       "      <th>PLZ8_BAUMAX</th>\n",
       "      <th>PLZ8_HHZ</th>\n",
       "      <th>PLZ8_GBZ</th>\n",
       "      <th>ARBEIT</th>\n",
       "      <th>ORTSGR_KLS9</th>\n",
       "      <th>RELAT_AB</th>\n",
       "    </tr>\n",
       "  </thead>\n",
       "  <tbody>\n",
       "    <tr>\n",
       "      <th>0</th>\n",
       "      <td>2.0</td>\n",
       "      <td>1.0</td>\n",
       "      <td>2.0</td>\n",
       "      <td>3.0</td>\n",
       "      <td>4.0</td>\n",
       "      <td>3.0</td>\n",
       "      <td>5.0</td>\n",
       "      <td>5.0</td>\n",
       "      <td>3.0</td>\n",
       "      <td>4.0</td>\n",
       "      <td>...</td>\n",
       "      <td>NaN</td>\n",
       "      <td>NaN</td>\n",
       "      <td>NaN</td>\n",
       "      <td>NaN</td>\n",
       "      <td>NaN</td>\n",
       "      <td>NaN</td>\n",
       "      <td>NaN</td>\n",
       "      <td>NaN</td>\n",
       "      <td>NaN</td>\n",
       "      <td>NaN</td>\n",
       "    </tr>\n",
       "    <tr>\n",
       "      <th>11</th>\n",
       "      <td>2.0</td>\n",
       "      <td>1.0</td>\n",
       "      <td>6.0</td>\n",
       "      <td>3.0</td>\n",
       "      <td>4.0</td>\n",
       "      <td>3.0</td>\n",
       "      <td>5.0</td>\n",
       "      <td>5.0</td>\n",
       "      <td>3.0</td>\n",
       "      <td>4.0</td>\n",
       "      <td>...</td>\n",
       "      <td>NaN</td>\n",
       "      <td>NaN</td>\n",
       "      <td>NaN</td>\n",
       "      <td>NaN</td>\n",
       "      <td>NaN</td>\n",
       "      <td>NaN</td>\n",
       "      <td>NaN</td>\n",
       "      <td>NaN</td>\n",
       "      <td>NaN</td>\n",
       "      <td>NaN</td>\n",
       "    </tr>\n",
       "    <tr>\n",
       "      <th>14</th>\n",
       "      <td>3.0</td>\n",
       "      <td>1.0</td>\n",
       "      <td>6.0</td>\n",
       "      <td>3.0</td>\n",
       "      <td>4.0</td>\n",
       "      <td>3.0</td>\n",
       "      <td>5.0</td>\n",
       "      <td>5.0</td>\n",
       "      <td>3.0</td>\n",
       "      <td>4.0</td>\n",
       "      <td>...</td>\n",
       "      <td>NaN</td>\n",
       "      <td>NaN</td>\n",
       "      <td>NaN</td>\n",
       "      <td>NaN</td>\n",
       "      <td>NaN</td>\n",
       "      <td>NaN</td>\n",
       "      <td>NaN</td>\n",
       "      <td>NaN</td>\n",
       "      <td>NaN</td>\n",
       "      <td>NaN</td>\n",
       "    </tr>\n",
       "    <tr>\n",
       "      <th>17</th>\n",
       "      <td>2.0</td>\n",
       "      <td>1.0</td>\n",
       "      <td>6.0</td>\n",
       "      <td>3.0</td>\n",
       "      <td>4.0</td>\n",
       "      <td>3.0</td>\n",
       "      <td>5.0</td>\n",
       "      <td>5.0</td>\n",
       "      <td>3.0</td>\n",
       "      <td>4.0</td>\n",
       "      <td>...</td>\n",
       "      <td>NaN</td>\n",
       "      <td>NaN</td>\n",
       "      <td>NaN</td>\n",
       "      <td>NaN</td>\n",
       "      <td>NaN</td>\n",
       "      <td>NaN</td>\n",
       "      <td>NaN</td>\n",
       "      <td>NaN</td>\n",
       "      <td>NaN</td>\n",
       "      <td>NaN</td>\n",
       "    </tr>\n",
       "    <tr>\n",
       "      <th>24</th>\n",
       "      <td>3.0</td>\n",
       "      <td>2.0</td>\n",
       "      <td>6.0</td>\n",
       "      <td>3.0</td>\n",
       "      <td>4.0</td>\n",
       "      <td>3.0</td>\n",
       "      <td>5.0</td>\n",
       "      <td>5.0</td>\n",
       "      <td>3.0</td>\n",
       "      <td>4.0</td>\n",
       "      <td>...</td>\n",
       "      <td>NaN</td>\n",
       "      <td>NaN</td>\n",
       "      <td>NaN</td>\n",
       "      <td>NaN</td>\n",
       "      <td>NaN</td>\n",
       "      <td>NaN</td>\n",
       "      <td>NaN</td>\n",
       "      <td>NaN</td>\n",
       "      <td>NaN</td>\n",
       "      <td>NaN</td>\n",
       "    </tr>\n",
       "  </tbody>\n",
       "</table>\n",
       "<p>5 rows × 79 columns</p>\n",
       "</div>"
      ],
      "text/plain": [
       "    ALTERSKATEGORIE_GROB  ANREDE_KZ  CJT_GESAMTTYP  FINANZ_MINIMALIST  \\\n",
       "0                    2.0        1.0            2.0                3.0   \n",
       "11                   2.0        1.0            6.0                3.0   \n",
       "14                   3.0        1.0            6.0                3.0   \n",
       "17                   2.0        1.0            6.0                3.0   \n",
       "24                   3.0        2.0            6.0                3.0   \n",
       "\n",
       "    FINANZ_SPARER  FINANZ_VORSORGER  FINANZ_ANLEGER  FINANZ_UNAUFFAELLIGER  \\\n",
       "0             4.0               3.0             5.0                    5.0   \n",
       "11            4.0               3.0             5.0                    5.0   \n",
       "14            4.0               3.0             5.0                    5.0   \n",
       "17            4.0               3.0             5.0                    5.0   \n",
       "24            4.0               3.0             5.0                    5.0   \n",
       "\n",
       "    FINANZ_HAUSBAUER  FINANZTYP    ...     PLZ8_ANTG1  PLZ8_ANTG2  PLZ8_ANTG3  \\\n",
       "0                3.0        4.0    ...            NaN         NaN         NaN   \n",
       "11               3.0        4.0    ...            NaN         NaN         NaN   \n",
       "14               3.0        4.0    ...            NaN         NaN         NaN   \n",
       "17               3.0        4.0    ...            NaN         NaN         NaN   \n",
       "24               3.0        4.0    ...            NaN         NaN         NaN   \n",
       "\n",
       "    PLZ8_ANTG4  PLZ8_BAUMAX  PLZ8_HHZ  PLZ8_GBZ  ARBEIT  ORTSGR_KLS9  RELAT_AB  \n",
       "0          NaN          NaN       NaN       NaN     NaN          NaN       NaN  \n",
       "11         NaN          NaN       NaN       NaN     NaN          NaN       NaN  \n",
       "14         NaN          NaN       NaN       NaN     NaN          NaN       NaN  \n",
       "17         NaN          NaN       NaN       NaN     NaN          NaN       NaN  \n",
       "24         NaN          NaN       NaN       NaN     NaN          NaN       NaN  \n",
       "\n",
       "[5 rows x 79 columns]"
      ]
     },
     "execution_count": 219,
     "metadata": {},
     "output_type": "execute_result"
    }
   ],
   "source": [
    "df_missing_data.head()"
   ]
  },
  {
   "cell_type": "code",
   "execution_count": 220,
   "metadata": {},
   "outputs": [
    {
     "data": {
      "image/png": "[encoded data removed]",
      "text/plain": [
       "<matplotlib.figure.Figure at 0x7fe82e728f60>"
      ]
     },
     "metadata": {
      "needs_background": "light"
     },
     "output_type": "display_data"
    }
   ],
   "source": [
    "# Compare the distribution of values for at least five columns where there are\n",
    "# no or few missing values, between the two subsets.\n",
    "cols = ['ARBEIT', 'ONLINE_AFFINITAET', 'ALTERSKATEGORIE_GROB', 'FINANZ_MINIMALIST', 'SEMIO_KULT']\n",
    "plt.figure(figsize=(12, 12))\n",
    "for ind, col in enumerate(cols):\n",
    "    plt.subplot(len(cols), 2, ind * 2 + 1)\n",
    "    sns.countplot(x=col, data=azdias)\n",
    "    plt.xlabel(col + ' group 1')\n",
    "    plt.subplot(len(cols), 2, ind * 2 + 2)\n",
    "    sns.countplot(x=col, data=df_missing_data)\n",
    "    plt.xlabel(col + ' group 2')\n",
    "    \n",
    "plt.tight_layout()"
   ]
  },
  {
   "cell_type": "markdown",
   "metadata": {},
   "source": [
    "#### Discussion 1.1.3: Assess Missing Data in Each Row\n",
    "\n",
    "I found that most of rows in our dataset were missing less than 20 values, and split the data in two sets based on that.\n",
    "\n",
    "Based solely on 5 columns I chose at random, it does appear there are some qualitative differences between the two datasets. We will have to take this discrepancy into account later in the analysis."
   ]
  },
  {
   "cell_type": "markdown",
   "metadata": {},
   "source": [
    "### Step 1.2: Select and Re-Encode Features\n",
    "\n",
    "Checking for missing data isn't the only way in which you can prepare a dataset for analysis. Since the unsupervised learning techniques to be used will only work on data that is encoded numerically, you need to make a few encoding changes or additional assumptions to be able to make progress. In addition, while almost all of the values in the dataset are encoded using numbers, not all of them represent numeric values. Check the third column of the feature summary (`feat_info`) for a summary of types of measurement.\n",
    "- For numeric and interval data, these features can be kept without changes.\n",
    "- Most of the variables in the dataset are ordinal in nature. While ordinal values may technically be non-linear in spacing, make the simplifying assumption that the ordinal variables can be treated as being interval in nature (that is, kept without any changes).\n",
    "- Special handling may be necessary for the remaining two variable types: categorical, and 'mixed'.\n",
    "\n",
    "In the first two parts of this sub-step, you will perform an investigation of the categorical and mixed-type features and make a decision on each of them, whether you will keep, drop, or re-encode each. Then, in the last part, you will create a new data frame with only the selected and engineered columns.\n",
    "\n",
    "Data wrangling is often the trickiest part of the data analysis process, and there's a lot of it to be done here. But stick with it: once you're done with this step, you'll be ready to get to the machine learning parts of the project!"
   ]
  },
  {
   "cell_type": "code",
   "execution_count": 221,
   "metadata": {},
   "outputs": [
    {
     "data": {
      "text/plain": [
       "ordinal        49\n",
       "categorical    18\n",
       "numeric         6\n",
       "mixed           6\n",
       "Name: type, dtype: int64"
      ]
     },
     "execution_count": 221,
     "metadata": {},
     "output_type": "execute_result"
    }
   ],
   "source": [
    "# How many features are there of each data type?\n",
    "feat_info['type'].value_counts()"
   ]
  },
  {
   "cell_type": "markdown",
   "metadata": {},
   "source": [
    "#### Step 1.2.1: Re-Encode Categorical Features\n",
    "\n",
    "For categorical data, you would ordinarily need to encode the levels as dummy variables. Depending on the number of categories, perform one of the following:\n",
    "- For binary (two-level) categoricals that take numeric values, you can keep them without needing to do anything.\n",
    "- There is one binary variable that takes on non-numeric values. For this one, you need to re-encode the values as numbers or create a dummy variable.\n",
    "- For multi-level categoricals (three or more values), you can choose to encode the values using multiple dummy variables (e.g. via [OneHotEncoder](http://scikit-learn.org/stable/modules/generated/sklearn.preprocessing.OneHotEncoder.html)), or (to keep things straightforward) just drop them from the analysis. As always, document your choices in the Discussion section."
   ]
  },
  {
   "cell_type": "code",
   "execution_count": 222,
   "metadata": {},
   "outputs": [],
   "source": [
    "# Assess categorical variables: which are binary, which are multi-level, and\n",
    "# which one needs to be re-encoded?\n",
    "categoricals = feat_info.loc[feat_info['type'] == 'categorical', 'attribute'].values\n",
    "categoricals = list(set(categoricals) - set(cols_removed))\n",
    "multi_cats = [col for col in categoricals if len(azdias[col].value_counts()) > 2]"
   ]
  },
  {
   "cell_type": "code",
   "execution_count": 223,
   "metadata": {},
   "outputs": [],
   "source": [
    "azdias.drop(columns=multi_cats, inplace=True)"
   ]
  },
  {
   "cell_type": "code",
   "execution_count": 224,
   "metadata": {},
   "outputs": [],
   "source": [
    "feat_info.drop(feat_info.loc[feat_info['attribute'].isin(multi_cats)].index, inplace=True)"
   ]
  },
  {
   "cell_type": "code",
   "execution_count": 225,
   "metadata": {},
   "outputs": [
    {
     "name": "stdout",
     "output_type": "stream",
     "text": [
      "0.0    622259\n",
      "1.0    175167\n",
      "Name: GREEN_AVANTGARDE, dtype: int64\n",
      "W    628987\n",
      "O    168439\n",
      "Name: OST_WEST_KZ, dtype: int64\n",
      "0.0    790714\n",
      "1.0      6712\n",
      "Name: SOHO_KZ, dtype: int64\n",
      "2.0    394161\n",
      "1.0    366848\n",
      "Name: VERS_TYP, dtype: int64\n",
      "2.0    415781\n",
      "1.0    381645\n",
      "Name: ANREDE_KZ, dtype: int64\n"
     ]
    }
   ],
   "source": [
    "# Re-encode categorical variable(s) to be kept in the analysis.\n",
    "categoricals = list(set(categoricals) - set(multi_cats))\n",
    "for col in categoricals:\n",
    "    print(azdias[col].value_counts())"
   ]
  },
  {
   "cell_type": "code",
   "execution_count": 226,
   "metadata": {},
   "outputs": [],
   "source": [
    "ost_west_mapping = { 'W': 1, 'O': 0 }\n",
    "azdias['OST_WEST_KZ'].replace(ost_west_mapping, inplace=True)"
   ]
  },
  {
   "cell_type": "markdown",
   "metadata": {},
   "source": [
    "#### Discussion 1.2.1: Re-Encode Categorical Features\n",
    "\n",
    "(Double-click this cell and replace this text with your own text, reporting your findings and decisions regarding categorical features. Which ones did you keep, which did you drop, and what engineering steps did you perform?)\n",
    "\n",
    "To keep this analysis simple, I've chosen to drop the multi-level categorical columns from the dataset. \n",
    "All the other binary categorical columns have been kept, although I've reencoded the values in OST_WEST_KZ: 1 for W, 0 for O"
   ]
  },
  {
   "cell_type": "markdown",
   "metadata": {},
   "source": [
    "#### Step 1.2.2: Engineer Mixed-Type Features\n",
    "\n",
    "There are a handful of features that are marked as \"mixed\" in the feature summary that require special treatment in order to be included in the analysis. There are two in particular that deserve attention; the handling of the rest are up to your own choices:\n",
    "- \"PRAEGENDE_JUGENDJAHRE\" combines information on three dimensions: generation by decade, movement (mainstream vs. avantgarde), and nation (east vs. west). While there aren't enough levels to disentangle east from west, you should create two new variables to capture the other two dimensions: an interval-type variable for decade, and a binary variable for movement.\n",
    "- \"CAMEO_INTL_2015\" combines information on two axes: wealth and life stage. Break up the two-digit codes by their 'tens'-place and 'ones'-place digits into two new ordinal variables (which, for the purposes of this project, is equivalent to just treating them as their raw numeric values).\n",
    "- If you decide to keep or engineer new features around the other mixed-type features, make sure you note your steps in the Discussion section.\n",
    "\n",
    "Be sure to check `Data_Dictionary.md` for the details needed to finish these tasks."
   ]
  },
  {
   "cell_type": "code",
   "execution_count": 227,
   "metadata": {},
   "outputs": [],
   "source": [
    "# Investigate \"PRAEGENDE_JUGENDJAHRE\" and engineer two new variables.\n",
    "def map_to_decade(val):\n",
    "    if val >= 14:\n",
    "        return 90\n",
    "    elif val >= 10:\n",
    "        return 80\n",
    "    elif val >= 8:\n",
    "        return 70\n",
    "    elif val >= 5:\n",
    "        return 60\n",
    "    elif val >= 3:\n",
    "        return 50\n",
    "    elif val >= 1:\n",
    "        return 40\n",
    "    else:\n",
    "        return val\n",
    "    \n",
    "def map_to_movement(val):\n",
    "    if np.isnan(val):\n",
    "        return val\n",
    "    \n",
    "    mainstreams = [1, 3, 5, 8, 10, 12, 14]\n",
    "    if val in mainstreams:\n",
    "        return 0\n",
    "    else:\n",
    "        return 1\n",
    "    \n",
    "    \n",
    "azdias['PRAEGENDE_DECADE'] = azdias['PRAEGENDE_JUGENDJAHRE'].apply(map_to_decade)\n",
    "azdias['PRAEGENDE_MVT'] = azdias['PRAEGENDE_JUGENDJAHRE'].apply(map_to_movement)\n",
    "azdias.drop(columns='PRAEGENDE_JUGENDJAHRE', inplace=True)"
   ]
  },
  {
   "cell_type": "code",
   "execution_count": 228,
   "metadata": {},
   "outputs": [],
   "source": [
    "feat_info.drop(feat_info.loc[feat_info['attribute'] == 'PRAEGENDE_JUGENDJAHRE'].index, inplace=True)"
   ]
  },
  {
   "cell_type": "code",
   "execution_count": 229,
   "metadata": {},
   "outputs": [],
   "source": [
    "# Investigate \"CAMEO_INTL_2015\" and engineer two new variables.\n",
    "\n",
    "azdias['CAMEO_LIFE_STAGE'] = azdias['CAMEO_INTL_2015'].apply(lambda x: float(x) % 10)\n",
    "azdias['CAMEO_WEALTH'] = azdias['CAMEO_INTL_2015'].apply(lambda x: float(x) // 10)"
   ]
  },
  {
   "cell_type": "code",
   "execution_count": 230,
   "metadata": {},
   "outputs": [],
   "source": [
    "azdias.drop(columns='CAMEO_INTL_2015', inplace=True)"
   ]
  },
  {
   "cell_type": "code",
   "execution_count": 231,
   "metadata": {},
   "outputs": [],
   "source": [
    "feat_info.drop(feat_info.loc[feat_info['attribute'] == 'CAMEO_INTL_2015'].index, inplace=True)"
   ]
  },
  {
   "cell_type": "code",
   "execution_count": 232,
   "metadata": {},
   "outputs": [],
   "source": [
    "# figure out where I'm missing dropping this column earlier :)\n",
    "\n",
    "feat_info_mixed_cols = feat_info.loc[feat_info['type'] == 'mixed', 'attribute']\n",
    "\n",
    "azdias.drop(columns=feat_info_mixed_cols, inplace=True)"
   ]
  },
  {
   "cell_type": "code",
   "execution_count": 233,
   "metadata": {},
   "outputs": [],
   "source": [
    "feat_info.drop(feat_info.loc[feat_info['type'] == 'mixed'].index, inplace=True)"
   ]
  },
  {
   "cell_type": "markdown",
   "metadata": {},
   "source": [
    "#### Discussion 1.2.2: Engineer Mixed-Type Features\n",
    "\n",
    "I chose to drop 4 of the 'mixed' type columns, but the remaining two I engineered into 4 new columns.\n",
    "\n",
    "PRAEGENDE_JUGENDJAHRE has been engineered into PRAEGENDE_DECADE and PRAEGENDE_MVT, indicating the decade of the individual's youth, and the dominating social movement of their youth, respectively.\n",
    "\n",
    "CAMEO_INTL_2015 has been engineered into CAMEO_LIFE_STAGE and CAMEO_WEALTH, indicating the life stage of the individuals' family situation, and the categorized wealth of their household, respectively."
   ]
  },
  {
   "cell_type": "markdown",
   "metadata": {},
   "source": [
    "#### Step 1.2.3: Complete Feature Selection\n",
    "\n",
    "In order to finish this step up, you need to make sure that your data frame now only has the columns that you want to keep. To summarize, the dataframe should consist of the following:\n",
    "- All numeric, interval, and ordinal type columns from the original dataset.\n",
    "- Binary categorical features (all numerically-encoded).\n",
    "- Engineered features from other multi-level categorical features and mixed features.\n",
    "\n",
    "Make sure that for any new columns that you have engineered, that you've excluded the original columns from the final dataset. Otherwise, their values will interfere with the analysis later on the project. For example, you should not keep \"PRAEGENDE_JUGENDJAHRE\", since its values won't be useful for the algorithm: only the values derived from it in the engineered features you created should be retained. As a reminder, your data should only be from **the subset with few or no missing values**."
   ]
  },
  {
   "cell_type": "code",
   "execution_count": 234,
   "metadata": {},
   "outputs": [
    {
     "name": "stdout",
     "output_type": "stream",
     "text": [
      "<class 'pandas.core.frame.DataFrame'>\n",
      "Int64Index: 797426 entries, 1 to 891220\n",
      "Data columns (total 64 columns):\n",
      "ALTERSKATEGORIE_GROB     794642 non-null float64\n",
      "ANREDE_KZ                797426 non-null float64\n",
      "FINANZ_MINIMALIST        797426 non-null float64\n",
      "FINANZ_SPARER            797426 non-null float64\n",
      "FINANZ_VORSORGER         797426 non-null float64\n",
      "FINANZ_ANLEGER           797426 non-null float64\n",
      "FINANZ_UNAUFFAELLIGER    797426 non-null float64\n",
      "FINANZ_HAUSBAUER         797426 non-null float64\n",
      "GREEN_AVANTGARDE         797426 non-null float64\n",
      "HEALTH_TYP               761009 non-null float64\n",
      "RETOURTYP_BK_S           792792 non-null float64\n",
      "SEMIO_SOZ                797426 non-null float64\n",
      "SEMIO_FAM                797426 non-null float64\n",
      "SEMIO_REL                797426 non-null float64\n",
      "SEMIO_MAT                797426 non-null float64\n",
      "SEMIO_VERT               797426 non-null float64\n",
      "SEMIO_LUST               797426 non-null float64\n",
      "SEMIO_ERL                797426 non-null float64\n",
      "SEMIO_KULT               797426 non-null float64\n",
      "SEMIO_RAT                797426 non-null float64\n",
      "SEMIO_KRIT               797426 non-null float64\n",
      "SEMIO_DOM                797426 non-null float64\n",
      "SEMIO_KAEM               797426 non-null float64\n",
      "SEMIO_PFLICHT            797426 non-null float64\n",
      "SEMIO_TRADV              797426 non-null float64\n",
      "SOHO_KZ                  797426 non-null float64\n",
      "VERS_TYP                 761009 non-null float64\n",
      "ANZ_PERSONEN             797426 non-null float64\n",
      "ANZ_TITEL                797426 non-null float64\n",
      "HH_EINKOMMEN_SCORE       797426 non-null float64\n",
      "W_KEIT_KIND_HH           738526 non-null float64\n",
      "WOHNDAUER_2008           797426 non-null float64\n",
      "ANZ_HAUSHALTE_AKTIV      791096 non-null float64\n",
      "ANZ_HH_TITEL             793698 non-null float64\n",
      "KONSUMNAEHE              797358 non-null float64\n",
      "MIN_GEBAEUDEJAHR         797426 non-null float64\n",
      "OST_WEST_KZ              797426 non-null int64\n",
      "KBA05_ANTG1              757890 non-null float64\n",
      "KBA05_ANTG2              757890 non-null float64\n",
      "KBA05_ANTG3              757890 non-null float64\n",
      "KBA05_ANTG4              757890 non-null float64\n",
      "KBA05_GBZ                757890 non-null float64\n",
      "BALLRAUM                 796835 non-null float64\n",
      "EWDICHTE                 796835 non-null float64\n",
      "INNENSTADT               796835 non-null float64\n",
      "GEBAEUDETYP_RASTER       797421 non-null float64\n",
      "KKK                      732993 non-null float64\n",
      "MOBI_REGIO               757890 non-null float64\n",
      "ONLINE_AFFINITAET        792792 non-null float64\n",
      "REGIOTYP                 732993 non-null float64\n",
      "KBA13_ANZAHL_PKW         785169 non-null float64\n",
      "PLZ8_ANTG1               774697 non-null float64\n",
      "PLZ8_ANTG2               774697 non-null float64\n",
      "PLZ8_ANTG3               774697 non-null float64\n",
      "PLZ8_ANTG4               774697 non-null float64\n",
      "PLZ8_HHZ                 774697 non-null float64\n",
      "PLZ8_GBZ                 774697 non-null float64\n",
      "ARBEIT                   793208 non-null float64\n",
      "ORTSGR_KLS9              793308 non-null float64\n",
      "RELAT_AB                 793208 non-null float64\n",
      "PRAEGENDE_DECADE         768968 non-null float64\n",
      "PRAEGENDE_MVT            768968 non-null float64\n",
      "CAMEO_LIFE_STAGE         791423 non-null float64\n",
      "CAMEO_WEALTH             791423 non-null float64\n",
      "dtypes: float64(63), int64(1)\n",
      "memory usage: 415.5 MB\n"
     ]
    }
   ],
   "source": [
    "# If there are other re-engineering tasks you need to perform, make sure you\n",
    "# take care of them here. (Dealing with missing data will come in step 2.1.)\n",
    "azdias.info()\n"
   ]
  },
  {
   "cell_type": "markdown",
   "metadata": {},
   "source": [
    "### Step 1.3: Create a Cleaning Function\n",
    "\n",
    "Even though you've finished cleaning up the general population demographics data, it's important to look ahead to the future and realize that you'll need to perform the same cleaning steps on the customer demographics data. In this substep, complete the function below to execute the main feature selection, encoding, and re-engineering steps you performed above. Then, when it comes to looking at the customer data in Step 3, you can just run this function on that DataFrame to get the trimmed dataset in a single step."
   ]
  },
  {
   "cell_type": "code",
   "execution_count": 235,
   "metadata": {},
   "outputs": [],
   "source": [
    "def clean_data(df, feat_info):\n",
    "    \"\"\"\n",
    "    Perform feature trimming, re-encoding, and engineering for demographics\n",
    "    data\n",
    "    \n",
    "    INPUT: Demographics DataFrame\n",
    "    OUTPUT: Trimmed and cleaned demographics DataFrame\n",
    "    \"\"\"\n",
    "    \n",
    "    # Put in code here to execute all main cleaning steps:\n",
    "    # convert missing value codes into NaNs, ...\n",
    "    \n",
    "    \n",
    "    # remove selected columns and rows, ...\n",
    "\n",
    "    \n",
    "    # select, re-encode, and engineer column values.\n",
    "\n",
    "    \n",
    "    # Return the cleaned dataframe.\n",
    "    feat_info['missing_or_unknown'] = feat_info['missing_or_unknown'].apply(lambda x: x.replace('[', '').replace(']', '').split(','))\n",
    "\n",
    "    for col in df.columns:\n",
    "        codes = feat_info[feat_info['attribute'] == col]['missing_or_unknown'].iloc[0]\n",
    "        df.loc[df[col].isin(codes), col] = np.nan\n",
    "\n",
    "    all_columns = df.columns\n",
    "\n",
    "    df.dropna(thresh=len(df) - 200000, axis=1, inplace=True)\n",
    "\n",
    "    cols_removed = list(set(all_columns) - set(df.columns))\n",
    "\n",
    "    feat_info.drop(feat_info.loc[feat_info['attribute'].isin(cols_removed)].index, inplace=True)\n",
    "\n",
    "    df_missing_data = df.loc[df.isnull().sum(axis=1).sort_values(ascending=False) > 20]\n",
    "    df = df.loc[df.isnull().sum(axis=1).sort_values(ascending=False) <= 20]\n",
    "\n",
    "    categoricals = feat_info.loc[feat_info['type'] == 'categorical', 'attribute'].values\n",
    "    categoricals = list(set(categoricals) - set(cols_removed))\n",
    "    multi_cats = [col for col in categoricals if len(df[col].value_counts()) > 2]\n",
    "\n",
    "    df.drop(columns=multi_cats, inplace=True)\n",
    "\n",
    "    feat_info.drop(feat_info.loc[feat_info['attribute'].isin(multi_cats)].index, inplace=True)\n",
    "\n",
    "    ost_west_mapping = { 'W': 1, 'O': 0 }\n",
    "    df['OST_WEST_KZ'].replace(ost_west_mapping, inplace=True)\n",
    "\n",
    "    def map_to_decade(val):\n",
    "        if val >= 14:\n",
    "            return 90\n",
    "        elif val >= 10:\n",
    "            return 80\n",
    "        elif val >= 8:\n",
    "            return 70\n",
    "        elif val >= 5:\n",
    "            return 60\n",
    "        elif val >= 3:\n",
    "            return 50\n",
    "        elif val >= 1:\n",
    "            return 40\n",
    "        else:\n",
    "            return val\n",
    "\n",
    "    def map_to_movement(val):\n",
    "        if np.isnan(val):\n",
    "            return val\n",
    "\n",
    "        mainstreams = [1, 3, 5, 8, 10, 12, 14]\n",
    "        if val in mainstreams:\n",
    "            return 0\n",
    "        else:\n",
    "            return 1\n",
    "\n",
    "    feat_info.drop(feat_info.loc[feat_info['attribute'] == 'PRAEGENDE_JUGENDJAHRE'].index, inplace=True)\n",
    "\n",
    "\n",
    "    df['PRAEGENDE_DECADE'] = df['PRAEGENDE_JUGENDJAHRE'].apply(map_to_decade)\n",
    "    df['PRAEGENDE_MVT'] = df['PRAEGENDE_JUGENDJAHRE'].apply(map_to_movement)\n",
    "    df.drop(columns='PRAEGENDE_JUGENDJAHRE', inplace=True)\n",
    "\n",
    "    df['CAMEO_LIFE_STAGE'] = df['CAMEO_INTL_2015'].apply(lambda x: float(x) % 10)\n",
    "    df['CAMEO_WEALTH'] = df['CAMEO_INTL_2015'].apply(lambda x: float(x) // 10)\n",
    "\n",
    "    df.drop(columns='CAMEO_INTL_2015', inplace=True)\n",
    "\n",
    "    feat_info.drop(feat_info.loc[feat_info['attribute'] == 'CAMEO_INTL_2015'].index, inplace=True)\n",
    "\n",
    "    feat_info_mixed_cols = feat_info.loc[feat_info['type'] == 'mixed', 'attribute']\n",
    "\n",
    "    df.drop(columns=feat_info_mixed_cols, inplace=True)\n",
    "\n",
    "    feat_info.drop(feat_info.loc[feat_info['type'] == 'mixed'].index, inplace=True)\n",
    "    \n",
    "    return df, df_missing_data\n",
    "    "
   ]
  },
  {
   "cell_type": "code",
   "execution_count": 236,
   "metadata": {},
   "outputs": [
    {
     "name": "stderr",
     "output_type": "stream",
     "text": [
      "/opt/conda/lib/python3.6/site-packages/pandas/core/frame.py:3697: SettingWithCopyWarning: \n",
      "A value is trying to be set on a copy of a slice from a DataFrame\n",
      "\n",
      "See the caveats in the documentation: http://pandas.pydata.org/pandas-docs/stable/indexing.html#indexing-view-versus-copy\n",
      "  errors=errors)\n",
      "/opt/conda/lib/python3.6/site-packages/pandas/core/generic.py:5890: SettingWithCopyWarning: \n",
      "A value is trying to be set on a copy of a slice from a DataFrame\n",
      "\n",
      "See the caveats in the documentation: http://pandas.pydata.org/pandas-docs/stable/indexing.html#indexing-view-versus-copy\n",
      "  self._update_inplace(new_data)\n",
      "/opt/conda/lib/python3.6/site-packages/ipykernel_launcher.py:78: SettingWithCopyWarning: \n",
      "A value is trying to be set on a copy of a slice from a DataFrame.\n",
      "Try using .loc[row_indexer,col_indexer] = value instead\n",
      "\n",
      "See the caveats in the documentation: http://pandas.pydata.org/pandas-docs/stable/indexing.html#indexing-view-versus-copy\n",
      "/opt/conda/lib/python3.6/site-packages/ipykernel_launcher.py:79: SettingWithCopyWarning: \n",
      "A value is trying to be set on a copy of a slice from a DataFrame.\n",
      "Try using .loc[row_indexer,col_indexer] = value instead\n",
      "\n",
      "See the caveats in the documentation: http://pandas.pydata.org/pandas-docs/stable/indexing.html#indexing-view-versus-copy\n",
      "/opt/conda/lib/python3.6/site-packages/ipykernel_launcher.py:82: SettingWithCopyWarning: \n",
      "A value is trying to be set on a copy of a slice from a DataFrame.\n",
      "Try using .loc[row_indexer,col_indexer] = value instead\n",
      "\n",
      "See the caveats in the documentation: http://pandas.pydata.org/pandas-docs/stable/indexing.html#indexing-view-versus-copy\n",
      "/opt/conda/lib/python3.6/site-packages/ipykernel_launcher.py:83: SettingWithCopyWarning: \n",
      "A value is trying to be set on a copy of a slice from a DataFrame.\n",
      "Try using .loc[row_indexer,col_indexer] = value instead\n",
      "\n",
      "See the caveats in the documentation: http://pandas.pydata.org/pandas-docs/stable/indexing.html#indexing-view-versus-copy\n"
     ]
    }
   ],
   "source": [
    "df = pd.read_csv('Udacity_AZDIAS_Subset.csv', sep=';')\n",
    "df_info = pd.read_csv('AZDIAS_Feature_Summary.csv', sep=';')\n",
    "\n",
    "df, df_missing_data = clean_data(df, df_info)\n"
   ]
  },
  {
   "cell_type": "markdown",
   "metadata": {},
   "source": [
    "## Step 2: Feature Transformation\n",
    "\n",
    "### Step 2.1: Apply Feature Scaling\n",
    "\n",
    "Before we apply dimensionality reduction techniques to the data, we need to perform feature scaling so that the principal component vectors are not influenced by the natural differences in scale for features. Starting from this part of the project, you'll want to keep an eye on the [API reference page for sklearn](http://scikit-learn.org/stable/modules/classes.html) to help you navigate to all of the classes and functions that you'll need. In this substep, you'll need to check the following:\n",
    "\n",
    "- sklearn requires that data not have missing values in order for its estimators to work properly. So, before applying the scaler to your data, make sure that you've cleaned the DataFrame of the remaining missing values. This can be as simple as just removing all data points with missing data, or applying an [Imputer](http://scikit-learn.org/stable/modules/generated/sklearn.preprocessing.Imputer.html) to replace all missing values. You might also try a more complicated procedure where you temporarily remove missing values in order to compute the scaling parameters before re-introducing those missing values and applying imputation. Think about how much missing data you have and what possible effects each approach might have on your analysis, and justify your decision in the discussion section below.\n",
    "- For the actual scaling function, a [StandardScaler](http://scikit-learn.org/stable/modules/generated/sklearn.preprocessing.StandardScaler.html) instance is suggested, scaling each feature to mean 0 and standard deviation 1.\n",
    "- For these classes, you can make use of the `.fit_transform()` method to both fit a procedure to the data as well as apply the transformation to the data at the same time. Don't forget to keep the fit sklearn objects handy, since you'll be applying them to the customer demographics data towards the end of the project."
   ]
  },
  {
   "cell_type": "code",
   "execution_count": 237,
   "metadata": {},
   "outputs": [],
   "source": [
    "# If you've not yet cleaned the dataset of all NaN values, then investigate and\n",
    "# do that now.\n",
    "\n",
    "imp_mean = Imputer(missing_values=np.nan)\n",
    "imp_df = imp_mean.fit_transform(df)"
   ]
  },
  {
   "cell_type": "code",
   "execution_count": 238,
   "metadata": {},
   "outputs": [],
   "source": [
    "# Apply feature scaling to the general population demographics data.\n",
    "scaler = StandardScaler()\n",
    "scaler_df = scaler.fit_transform(imp_df)"
   ]
  },
  {
   "cell_type": "markdown",
   "metadata": {},
   "source": [
    "### Discussion 2.1: Apply Feature Scaling\n",
    "\n",
    "Based on how many null values still remain among all the rows and columns, instead of dropping more data I've chose to use a simple imputer that replaces nan values with the mean for the column. \n",
    "\n",
    "I also used a standard scaler to scale the values in each column to a mean of 0 and a standard deviation of 1. "
   ]
  },
  {
   "cell_type": "markdown",
   "metadata": {},
   "source": [
    "### Step 2.2: Perform Dimensionality Reduction\n",
    "\n",
    "On your scaled data, you are now ready to apply dimensionality reduction techniques.\n",
    "\n",
    "- Use sklearn's [PCA](http://scikit-learn.org/stable/modules/generated/sklearn.decomposition.PCA.html) class to apply principal component analysis on the data, thus finding the vectors of maximal variance in the data. To start, you should not set any parameters (so all components are computed) or set a number of components that is at least half the number of features (so there's enough features to see the general trend in variability).\n",
    "- Check out the ratio of variance explained by each principal component as well as the cumulative variance explained. Try plotting the cumulative or sequential values using matplotlib's [`plot()`](https://matplotlib.org/api/_as_gen/matplotlib.pyplot.plot.html) function. Based on what you find, select a value for the number of transformed features you'll retain for the clustering part of the project.\n",
    "- Once you've made a choice for the number of components to keep, make sure you re-fit a PCA instance to perform the decided-on transformation."
   ]
  },
  {
   "cell_type": "code",
   "execution_count": 239,
   "metadata": {},
   "outputs": [
    {
     "data": {
      "text/plain": [
       "PCA(copy=True, iterated_power='auto', n_components=None, random_state=None,\n",
       "  svd_solver='auto', tol=0.0, whiten=False)"
      ]
     },
     "execution_count": 239,
     "metadata": {},
     "output_type": "execute_result"
    }
   ],
   "source": [
    "# Apply PCA to the data.\n",
    "pca = PCA()\n",
    "pca.fit(scaler_df)"
   ]
  },
  {
   "cell_type": "code",
   "execution_count": 240,
   "metadata": {},
   "outputs": [
    {
     "name": "stdout",
     "output_type": "stream",
     "text": [
      "[  1.68158320e-01   1.34540404e-01   9.47631945e-02   5.26413334e-02\n",
      "   3.76490014e-02   3.17726966e-02   2.79875811e-02   2.49072265e-02\n",
      "   2.33367401e-02   2.12101884e-02   2.08089389e-02   2.05220476e-02\n",
      "   1.86926278e-02   1.77226722e-02   1.66606950e-02   1.60258291e-02\n",
      "   1.56191402e-02   1.45150520e-02   1.31682150e-02   1.29843753e-02\n",
      "   1.22410784e-02   1.20380010e-02   1.16542377e-02   1.10623466e-02\n",
      "   1.08163258e-02   9.06578289e-03   7.87192229e-03   7.47838067e-03\n",
      "   7.40474401e-03   7.17753240e-03   6.87003118e-03   6.54178079e-03\n",
      "   6.49617818e-03   6.29966322e-03   6.03859299e-03   5.96189524e-03\n",
      "   5.42659014e-03   4.98057593e-03   4.89563930e-03   4.48561208e-03\n",
      "   4.31670226e-03   4.10106734e-03   4.00120530e-03   3.89850139e-03\n",
      "   3.86759883e-03   3.48076221e-03   3.24039090e-03   3.18250123e-03\n",
      "   3.02392673e-03   2.85207061e-03   2.71113064e-03   2.68608713e-03\n",
      "   2.59292298e-03   2.36501786e-03   2.22412976e-03   2.18162383e-03\n",
      "   1.96266407e-03   1.94268476e-03   1.77274710e-03   1.64901731e-03\n",
      "   1.30930246e-03   1.25093088e-03   8.37942763e-04   5.58811583e-05]\n"
     ]
    },
    {
     "data": {
      "text/plain": [
       "[<matplotlib.lines.Line2D at 0x7fe847ecb908>]"
      ]
     },
     "execution_count": 240,
     "metadata": {},
     "output_type": "execute_result"
    },
    {
     "data": {
      "image/png": "[encoded data removed]",
      "text/plain": [
       "<matplotlib.figure.Figure at 0x7fe84fd237f0>"
      ]
     },
     "metadata": {
      "needs_background": "light"
     },
     "output_type": "display_data"
    }
   ],
   "source": [
    "# Investigate the variance accounted for by each principal component.\n",
    "print(pca.explained_variance_ratio_)\n",
    "plt.plot(pca.explained_variance_ratio_)"
   ]
  },
  {
   "cell_type": "code",
   "execution_count": 241,
   "metadata": {},
   "outputs": [],
   "source": [
    "# Re-apply PCA to the data while selecting for number of components to retain.\n",
    "pca = PCA(7)\n",
    "df_pca = pca.fit_transform(scaler_df)"
   ]
  },
  {
   "cell_type": "markdown",
   "metadata": {},
   "source": [
    "### Discussion 2.2: Perform Dimensionality Reduction\n",
    "\n",
    "We can see from the line chart above that the additional explained variance from adding principal components begins to taper off somewhere between 6 and 10 components, so I've chosen 7 for my PCA."
   ]
  },
  {
   "cell_type": "markdown",
   "metadata": {},
   "source": [
    "### Step 2.3: Interpret Principal Components\n",
    "\n",
    "Now that we have our transformed principal components, it's a nice idea to check out the weight of each variable on the first few components to see if they can be interpreted in some fashion.\n",
    "\n",
    "As a reminder, each principal component is a unit vector that points in the direction of highest variance (after accounting for the variance captured by earlier principal components). The further a weight is from zero, the more the principal component is in the direction of the corresponding feature. If two features have large weights of the same sign (both positive or both negative), then increases in one tend expect to be associated with increases in the other. To contrast, features with different signs can be expected to show a negative correlation: increases in one variable should result in a decrease in the other.\n",
    "\n",
    "- To investigate the features, you should map each weight to their corresponding feature name, then sort the features according to weight. The most interesting features for each principal component, then, will be those at the beginning and end of the sorted list. Use the data dictionary document to help you understand these most prominent features, their relationships, and what a positive or negative value on the principal component might indicate.\n",
    "- You should investigate and interpret feature associations from the first three principal components in this substep. To help facilitate this, you should write a function that you can call at any time to print the sorted list of feature weights, for the *i*-th principal component. This might come in handy in the next step of the project, when you interpret the tendencies of the discovered clusters."
   ]
  },
  {
   "cell_type": "code",
   "execution_count": 242,
   "metadata": {},
   "outputs": [
    {
     "data": {
      "text/plain": [
       "([('PLZ8_ANTG3', 0.22772027615078352),\n",
       "  ('PLZ8_ANTG4', 0.22090447720324827),\n",
       "  ('CAMEO_WEALTH', 0.20818808751687143),\n",
       "  ('HH_EINKOMMEN_SCORE', 0.2044448398277208),\n",
       "  ('ORTSGR_KLS9', 0.19843629409327812)],\n",
       " [('KBA05_GBZ', -0.21816063036265479),\n",
       "  ('FINANZ_MINIMALIST', -0.21836343829895261),\n",
       "  ('KBA05_ANTG1', -0.22663018162223411),\n",
       "  ('PLZ8_ANTG1', -0.22737016380981956),\n",
       "  ('MOBI_REGIO', -0.24314332622008211)])"
      ]
     },
     "execution_count": 242,
     "metadata": {},
     "output_type": "execute_result"
    }
   ],
   "source": [
    "# Map weights for the first principal component to corresponding feature names\n",
    "# and then print the linked values, sorted by weight.\n",
    "# HINT: Try defining a function here or in a new cell that you can reuse in the\n",
    "# other cells.\n",
    "\n",
    "def pca_map(component):\n",
    "    weights = pca.components_[component]\n",
    "    labels_weights = list(zip(df.columns, weights))\n",
    "    labels_weights.sort(reverse=True, key=lambda x: x[1])\n",
    "    return labels_weights[:5], labels_weights[-5:]\n",
    "    \n",
    "pca_map(0)"
   ]
  },
  {
   "cell_type": "code",
   "execution_count": 243,
   "metadata": {},
   "outputs": [
    {
     "data": {
      "text/plain": [
       "([('ALTERSKATEGORIE_GROB', 0.26136862574467618),\n",
       "  ('FINANZ_VORSORGER', 0.23439070449350932),\n",
       "  ('SEMIO_ERL', 0.23111595941760585),\n",
       "  ('SEMIO_LUST', 0.18434046670167964),\n",
       "  ('RETOURTYP_BK_S', 0.16383758500714862)],\n",
       " [('SEMIO_PFLICHT', -0.22900936936381974),\n",
       "  ('SEMIO_TRADV', -0.23231897627770762),\n",
       "  ('FINANZ_SPARER', -0.23753172154044361),\n",
       "  ('PRAEGENDE_DECADE', -0.25249903480755742),\n",
       "  ('SEMIO_REL', -0.25565999376529053)])"
      ]
     },
     "execution_count": 243,
     "metadata": {},
     "output_type": "execute_result"
    }
   ],
   "source": [
    "# Map weights for the second principal component to corresponding feature names\n",
    "# and then print the linked values, sorted by weight.\n",
    "pca_map(1)"
   ]
  },
  {
   "cell_type": "code",
   "execution_count": 244,
   "metadata": {},
   "outputs": [
    {
     "data": {
      "text/plain": [
       "([('SEMIO_VERT', 0.34524643149230566),\n",
       "  ('SEMIO_SOZ', 0.26248603604112197),\n",
       "  ('SEMIO_FAM', 0.25021547915428249),\n",
       "  ('SEMIO_KULT', 0.23553657351832574),\n",
       "  ('FINANZ_MINIMALIST', 0.15587982707130643)],\n",
       " [('SEMIO_RAT', -0.21752780589460921),\n",
       "  ('SEMIO_KRIT', -0.27604870718798136),\n",
       "  ('SEMIO_DOM', -0.31429438987117131),\n",
       "  ('SEMIO_KAEM', -0.3370924346097986),\n",
       "  ('ANREDE_KZ', -0.36871041629331586)])"
      ]
     },
     "execution_count": 244,
     "metadata": {},
     "output_type": "execute_result"
    }
   ],
   "source": [
    "# Map weights for the third principal component to corresponding feature names\n",
    "# and then print the linked values, sorted by weight.\n",
    "pca_map(2)"
   ]
  },
  {
   "cell_type": "markdown",
   "metadata": {},
   "source": [
    "### Discussion 2.3: Interpret Principal Components\n",
    "\n",
    "(Double-click this cell and replace this text with your own text, reporting your observations from detailed investigation of the first few principal components generated. Can we interpret positive and negative values from them in a meaningful way?)\n",
    "\n",
    "#### First component\n",
    "In the first component, we see the two most positive weights come from PLZ8_ANTG3 and PLZ8_ANTG4. These refer to the number of 6-10 family households in the individuals region, and the number of 10+ family households, respectively.\n",
    "- Both of those being weighted positive together does seem to make sense -- both columns are probably fairly high in suburbs and fairly low in city centers.\n",
    "\n",
    "The two most negative weights in the first component are MOBI_REGIO and PLZ_ANTG1 -- the movement patterns of the individual's region, and the number of 1-2 family households in the individuals' region.\n",
    "- The correlation between these two could be interpreted as there being higher regional movement in places where 1-2 family households are high, likely city centers.\n",
    "\n",
    "The positive and negative weights do make sense then: it's likely that a high score in number of large family houses in an area indicates a suburb, and movement in suburbs is probably much lower compared to movement in city centers.\n",
    "\n",
    "#### Second component\n",
    "\n",
    "** Note: a high number in SEMIO_REL and FINANZ_VORSORGER indicates a **low** affinity for that attribute\n",
    "\n",
    "In this component, the two most positive weights are ALTERSKATEGORIE_GROB and FINANZ_VORSORGER -- the estimated age range of the individual, and their \"financial topology\" leaning toward \"be prepared\"\n",
    "- I'm a little surprised by this correlation. In the US, I'd say the older individuals in our society tend toward the \"be prepared\" financial attitude, but this suggests in this dataset a higher estimated age range correlates with a lower \"be prepared\" attitude. Perhaps this is more common in Germany than the US.\n",
    "\n",
    "The two most negative are SEMIO_REL and PRAEGENDE_DECADE, the individuals rating as having a \"religion-oriented personality\", and the decade of the individuals youth.\n",
    "- This one also matches my instinct -- I've read that younger individuals (whose decade of youth would be higher) tend to be less religious (a higher SEMIO_REL)\n",
    "\n",
    "The most positive and most negative weights have a very clear negative correlation: as their estimated age range, ALTERSKATEGORIE_GROB, goes up, obviously the decade of their youth, PRAEGENDE_DECADE goes down.\n",
    "\n",
    "#### Third component\n",
    "** Note: a high number in SEMIO_VERT, SEMIO_SOZ and SEMIO_KAEM indicates a **low** affinity for that attribute\n",
    "\n",
    "In this component, the two most positive weights are SEMIO_VERT and SEMIO_SOZ -- their rating of being \"dreamful\" and of being \"socially minded\", respectively\n",
    "- This correlation could make sense -- people who tend to be \"dreamers\" might also be the same people who are more concerned with social matters\n",
    "\n",
    "The two most negative are ANREDE_KZ and SEMIO_KAEM -- the individuals reported gender and a \"combative\" attitude\n",
    "- Seems in this dataset, there's a correlation between an individual identifying as \"male\" and also reporting they have a \"combative\" attitude. I could believe it!\n",
    "\n",
    "The most positive and most negative weights could possibly be correlated -- it could be true that those who tend to identify less as \"dreamful\" also tend to identify as male."
   ]
  },
  {
   "cell_type": "markdown",
   "metadata": {},
   "source": [
    "## Step 3: Clustering\n",
    "\n",
    "### Step 3.1: Apply Clustering to General Population\n",
    "\n",
    "You've assessed and cleaned the demographics data, then scaled and transformed them. Now, it's time to see how the data clusters in the principal components space. In this substep, you will apply k-means clustering to the dataset and use the average within-cluster distances from each point to their assigned cluster's centroid to decide on a number of clusters to keep.\n",
    "\n",
    "- Use sklearn's [KMeans](http://scikit-learn.org/stable/modules/generated/sklearn.cluster.KMeans.html#sklearn.cluster.KMeans) class to perform k-means clustering on the PCA-transformed data.\n",
    "- Then, compute the average difference from each point to its assigned cluster's center. **Hint**: The KMeans object's `.score()` method might be useful here, but note that in sklearn, scores tend to be defined so that larger is better. Try applying it to a small, toy dataset, or use an internet search to help your understanding.\n",
    "- Perform the above two steps for a number of different cluster counts. You can then see how the average distance decreases with an increasing number of clusters. However, each additional cluster provides a smaller net benefit. Use this fact to select a final number of clusters in which to group the data. **Warning**: because of the large size of the dataset, it can take a long time for the algorithm to resolve. The more clusters to fit, the longer the algorithm will take. You should test for cluster counts through at least 10 clusters to get the full picture, but you shouldn't need to test for a number of clusters above about 30.\n",
    "- Once you've selected a final number of clusters to use, re-fit a KMeans instance to perform the clustering operation. Make sure that you also obtain the cluster assignments for the general demographics data, since you'll be using them in the final Step 3.3."
   ]
  },
  {
   "cell_type": "code",
   "execution_count": 245,
   "metadata": {},
   "outputs": [
    {
     "name": "stdout",
     "output_type": "stream",
     "text": [
      "Average distance for 4 clusters: 20.273602334923762\n",
      "Average distance for 6 clusters: 16.940757989163096\n",
      "Average distance for 8 clusters: 14.5426941845652\n",
      "Average distance for 10 clusters: 13.231307724677938\n",
      "Average distance for 12 clusters: 12.315752361153828\n",
      "Average distance for 14 clusters: 11.632981852397092\n"
     ]
    }
   ],
   "source": [
    "distances = []\n",
    "models = {}\n",
    "# Over a number of different cluster counts...\n",
    "for n_clusters in [4,6,8,10,12,14]:\n",
    "    model = KMeans(n_clusters, random_state=28)\n",
    "    \n",
    "    # run k-means clustering on the data and...\n",
    "    model.fit(df_pca)\n",
    "    \n",
    "    models[n_clusters] = model\n",
    "    \n",
    "    # compute the average within-cluster distances.\n",
    "    avg_dist = -model.score(df_pca) / len(df_pca)\n",
    "    distances.append(avg_dist)\n",
    "    print(f'Average distance for {n_clusters} clusters: {avg_dist}')"
   ]
  },
  {
   "cell_type": "code",
   "execution_count": 246,
   "metadata": {},
   "outputs": [
    {
     "data": {
      "text/plain": [
       "[<matplotlib.lines.Line2D at 0x7fe86805eb70>]"
      ]
     },
     "execution_count": 246,
     "metadata": {},
     "output_type": "execute_result"
    },
    {
     "data": {
      "image/png": "[encoded data removed]",
      "text/plain": [
       "<matplotlib.figure.Figure at 0x7fe84fe0e7f0>"
      ]
     },
     "metadata": {
      "needs_background": "light"
     },
     "output_type": "display_data"
    }
   ],
   "source": [
    "# Investigate the change in within-cluster distance across number of clusters.\n",
    "# HINT: Use matplotlib's plot function to visualize this relationship.\n",
    "\n",
    "plt.plot(list(range(4, 15, 2)), distances)"
   ]
  },
  {
   "cell_type": "code",
   "execution_count": 247,
   "metadata": {},
   "outputs": [],
   "source": [
    "# Re-fit the k-means model with the selected number of clusters and obtain\n",
    "# cluster predictions for the general population demographics data.\n",
    "model = models[10]\n",
    "clusters = model.predict(df_pca)"
   ]
  },
  {
   "cell_type": "markdown",
   "metadata": {},
   "source": [
    "### Discussion 3.1: Apply Clustering to General Population\n",
    "\n",
    "The line plot above doesn't seem to have a distinct \"elbow\", so I think any choice of 8, 10 or 12 would be good.\n",
    "\n",
    "I've chosen to move forward with 10 clusters for this analysis."
   ]
  },
  {
   "cell_type": "markdown",
   "metadata": {},
   "source": [
    "### Step 3.2: Apply All Steps to the Customer Data\n",
    "\n",
    "Now that you have clusters and cluster centers for the general population, it's time to see how the customer data maps on to those clusters. Take care to not confuse this for re-fitting all of the models to the customer data. Instead, you're going to use the fits from the general population to clean, transform, and cluster the customer data. In the last step of the project, you will interpret how the general population fits apply to the customer data.\n",
    "\n",
    "- Don't forget when loading in the customers data, that it is semicolon (`;`) delimited.\n",
    "- Apply the same feature wrangling, selection, and engineering steps to the customer demographics using the `clean_data()` function you created earlier. (You can assume that the customer demographics data has similar meaning behind missing data patterns as the general demographics data.)\n",
    "- Use the sklearn objects from the general demographics data, and apply their transformations to the customers data. That is, you should not be using a `.fit()` or `.fit_transform()` method to re-fit the old objects, nor should you be creating new sklearn objects! Carry the data through the feature scaling, PCA, and clustering steps, obtaining cluster assignments for all of the data in the customer demographics data."
   ]
  },
  {
   "cell_type": "code",
   "execution_count": 248,
   "metadata": {},
   "outputs": [
    {
     "name": "stderr",
     "output_type": "stream",
     "text": [
      "/opt/conda/lib/python3.6/site-packages/pandas/core/frame.py:3697: SettingWithCopyWarning: \n",
      "A value is trying to be set on a copy of a slice from a DataFrame\n",
      "\n",
      "See the caveats in the documentation: http://pandas.pydata.org/pandas-docs/stable/indexing.html#indexing-view-versus-copy\n",
      "  errors=errors)\n",
      "/opt/conda/lib/python3.6/site-packages/pandas/core/generic.py:5890: SettingWithCopyWarning: \n",
      "A value is trying to be set on a copy of a slice from a DataFrame\n",
      "\n",
      "See the caveats in the documentation: http://pandas.pydata.org/pandas-docs/stable/indexing.html#indexing-view-versus-copy\n",
      "  self._update_inplace(new_data)\n",
      "/opt/conda/lib/python3.6/site-packages/ipykernel_launcher.py:78: SettingWithCopyWarning: \n",
      "A value is trying to be set on a copy of a slice from a DataFrame.\n",
      "Try using .loc[row_indexer,col_indexer] = value instead\n",
      "\n",
      "See the caveats in the documentation: http://pandas.pydata.org/pandas-docs/stable/indexing.html#indexing-view-versus-copy\n",
      "/opt/conda/lib/python3.6/site-packages/ipykernel_launcher.py:79: SettingWithCopyWarning: \n",
      "A value is trying to be set on a copy of a slice from a DataFrame.\n",
      "Try using .loc[row_indexer,col_indexer] = value instead\n",
      "\n",
      "See the caveats in the documentation: http://pandas.pydata.org/pandas-docs/stable/indexing.html#indexing-view-versus-copy\n",
      "/opt/conda/lib/python3.6/site-packages/ipykernel_launcher.py:82: SettingWithCopyWarning: \n",
      "A value is trying to be set on a copy of a slice from a DataFrame.\n",
      "Try using .loc[row_indexer,col_indexer] = value instead\n",
      "\n",
      "See the caveats in the documentation: http://pandas.pydata.org/pandas-docs/stable/indexing.html#indexing-view-versus-copy\n",
      "/opt/conda/lib/python3.6/site-packages/ipykernel_launcher.py:83: SettingWithCopyWarning: \n",
      "A value is trying to be set on a copy of a slice from a DataFrame.\n",
      "Try using .loc[row_indexer,col_indexer] = value instead\n",
      "\n",
      "See the caveats in the documentation: http://pandas.pydata.org/pandas-docs/stable/indexing.html#indexing-view-versus-copy\n"
     ]
    }
   ],
   "source": [
    "# Load in the customer demographics data.\n",
    "customers = pd.read_csv('Udacity_CUSTOMERS_Subset.csv', sep=';')\n",
    "feat_info_customers = pd.read_csv('AZDIAS_Feature_Summary.csv', sep=';')\n",
    "df_customers, df_cust_missing_data = clean_data(customers, feat_info_customers)\n",
    "df_customers.drop(columns=['ALTER_HH', 'GEBURTSJAHR'], inplace=True)"
   ]
  },
  {
   "cell_type": "code",
   "execution_count": 249,
   "metadata": {},
   "outputs": [],
   "source": [
    "df_customers_imp = imp_mean.transform(df_customers)"
   ]
  },
  {
   "cell_type": "code",
   "execution_count": 250,
   "metadata": {},
   "outputs": [],
   "source": [
    "# Apply preprocessing, feature transformation, and clustering from the general\n",
    "# demographics onto the customer data, obtaining cluster predictions for the\n",
    "# customer demographics data.\n",
    "df_customers_scale = scaler.transform(df_customers_imp)"
   ]
  },
  {
   "cell_type": "code",
   "execution_count": 251,
   "metadata": {},
   "outputs": [],
   "source": [
    "customers_pca = pca.transform(df_customers_scale)"
   ]
  },
  {
   "cell_type": "code",
   "execution_count": 252,
   "metadata": {},
   "outputs": [],
   "source": [
    "customer_clusters = model.predict(customers_pca)"
   ]
  },
  {
   "cell_type": "markdown",
   "metadata": {},
   "source": [
    "### Step 3.3: Compare Customer Data to Demographics Data\n",
    "\n",
    "At this point, you have clustered data based on demographics of the general population of Germany, and seen how the customer data for a mail-order sales company maps onto those demographic clusters. In this final substep, you will compare the two cluster distributions to see where the strongest customer base for the company is.\n",
    "\n",
    "Consider the proportion of persons in each cluster for the general population, and the proportions for the customers. If we think the company's customer base to be universal, then the cluster assignment proportions should be fairly similar between the two. If there are only particular segments of the population that are interested in the company's products, then we should see a mismatch from one to the other. If there is a higher proportion of persons in a cluster for the customer data compared to the general population (e.g. 5% of persons are assigned to a cluster for the general population, but 15% of the customer data is closest to that cluster's centroid) then that suggests the people in that cluster to be a target audience for the company. On the other hand, the proportion of the data in a cluster being larger in the general population than the customer data (e.g. only 2% of customers closest to a population centroid that captures 6% of the data) suggests that group of persons to be outside of the target demographics.\n",
    "\n",
    "Take a look at the following points in this step:\n",
    "\n",
    "- Compute the proportion of data points in each cluster for the general population and the customer data. Visualizations will be useful here: both for the individual dataset proportions, but also to visualize the ratios in cluster representation between groups. Seaborn's [`countplot()`](https://seaborn.pydata.org/generated/seaborn.countplot.html) or [`barplot()`](https://seaborn.pydata.org/generated/seaborn.barplot.html) function could be handy.\n",
    "  - Recall the analysis you performed in step 1.1.3 of the project, where you separated out certain data points from the dataset if they had more than a specified threshold of missing values. If you found that this group was qualitatively different from the main bulk of the data, you should treat this as an additional data cluster in this analysis. Make sure that you account for the number of data points in this subset, for both the general population and customer datasets, when making your computations!\n",
    "- Which cluster or clusters are overrepresented in the customer dataset compared to the general population? Select at least one such cluster and infer what kind of people might be represented by that cluster. Use the principal component interpretations from step 2.3 or look at additional components to help you make this inference. Alternatively, you can use the `.inverse_transform()` method of the PCA and StandardScaler objects to transform centroids back to the original data space and interpret the retrieved values directly.\n",
    "- Perform a similar investigation for the underrepresented clusters. Which cluster or clusters are underrepresented in the customer dataset compared to the general population, and what kinds of people are typified by these clusters?"
   ]
  },
  {
   "cell_type": "code",
   "execution_count": 253,
   "metadata": {},
   "outputs": [],
   "source": [
    "cluster_counts = pd.Series(clusters).value_counts()\n",
    "\n",
    "# here I'll add a count for the data we dropped from our dataset due to missing row values,\n",
    "# effectively adding an 11th cluster\n",
    "cluster_counts[10] = len(df_missing_data)\n",
    "\n",
    "total_cluster_len = len(clusters) + len(df_missing_data)"
   ]
  },
  {
   "cell_type": "code",
   "execution_count": 254,
   "metadata": {},
   "outputs": [],
   "source": [
    "cust_cluster_counts = pd.Series(customer_clusters).value_counts()\n",
    "cust_cluster_counts[10] = len(df_cust_missing_data)\n",
    "\n",
    "total_customer_len = len(customer_clusters) + len(df_cust_missing_data)"
   ]
  },
  {
   "cell_type": "code",
   "execution_count": 255,
   "metadata": {
    "scrolled": true
   },
   "outputs": [
    {
     "data": {
      "image/png": "[encoded data removed]",
      "text/plain": [
       "<matplotlib.figure.Figure at 0x7fe84fd750b8>"
      ]
     },
     "metadata": {
      "needs_background": "light"
     },
     "output_type": "display_data"
    }
   ],
   "source": [
    "plt.figure(figsize=(12, 4))\n",
    "plt.subplot(1, 2, 1)\n",
    "sns.barplot(cluster_counts.index, cluster_counts.values / total_cluster_len)\n",
    "plt.xlabel('Population clusters')\n",
    "plt.ylim((0, 0.3))\n",
    "plt.subplot(1, 2, 2)\n",
    "sns.barplot(cust_cluster_counts.index, cust_cluster_counts.values / total_customer_len)\n",
    "plt.xlabel('Customer clusters')\n",
    "plt.ylim((0, 0.3))\n",
    "plt.tight_layout()"
   ]
  },
  {
   "cell_type": "code",
   "execution_count": 262,
   "metadata": {
    "scrolled": true
   },
   "outputs": [
    {
     "data": {
      "text/plain": [
       "[('ALTERSKATEGORIE_GROB', 3.2657475614945941),\n",
       " ('ANREDE_KZ', 1.059248740207209),\n",
       " ('FINANZ_MINIMALIST', 4.7886946365613703),\n",
       " ('CAMEO_LIFE_STAGE', 3.6186786273328257),\n",
       " ('CAMEO_WEALTH', 2.0082661399589989)]"
      ]
     },
     "execution_count": 262,
     "metadata": {},
     "output_type": "execute_result"
    }
   ],
   "source": [
    "# What kinds of people are part of a cluster that is overrepresented in the\n",
    "# customer data compared to the general population?\n",
    "\n",
    "cluster_1_values = list(zip(df.columns, scaler.inverse_transform(pca.inverse_transform(model.cluster_centers_[1]))))\n",
    "[pair for pair in cluster_1_values if pair[0] in ('ALTERSKATEGORIE_GROB', 'ANREDE_KZ', 'FINANZ_MINIMALIST', 'CAMEO_LIFE_STAGE', 'CAMEO_WEALTH')]"
   ]
  },
  {
   "cell_type": "code",
   "execution_count": 260,
   "metadata": {},
   "outputs": [
    {
     "data": {
      "text/plain": [
       "[('ALTERSKATEGORIE_GROB', 1.7840516299789633),\n",
       " ('ANREDE_KZ', 1.974858778280548),\n",
       " ('FINANZ_MINIMALIST', 1.1243036039764782),\n",
       " ('CAMEO_LIFE_STAGE', 2.147743834329578),\n",
       " ('CAMEO_WEALTH', 4.3153052206980602)]"
      ]
     },
     "execution_count": 260,
     "metadata": {},
     "output_type": "execute_result"
    }
   ],
   "source": [
    "# What kinds of people are part of a cluster that is underrepresented in the\n",
    "# customer data compared to the general population?\n",
    "\n",
    "cluster_0_values = list(zip(df.columns, scaler.inverse_transform(pca.inverse_transform(model.cluster_centers_[0]))))\n",
    "[pair for pair in cluster_0_values if pair[0] in ('ALTERSKATEGORIE_GROB', 'ANREDE_KZ', 'FINANZ_MINIMALIST', 'CAMEO_LIFE_STAGE', 'CAMEO_WEALTH')]"
   ]
  },
  {
   "cell_type": "markdown",
   "metadata": {},
   "source": [
    "### Discussion 3.3: Compare Customer Data to Demographics Data\n",
    "\n",
    "(Double-click this cell and replace this text with your own text, reporting findings and conclusions from the clustering analysis. Can we describe segments of the population that are relatively popular with the mail-order company, or relatively unpopular with the company?)\n",
    "\n",
    "According to wikipedia, Arvato provides services in customer support, information technology, logistics, and finance\n",
    "\n",
    "#### An overrepresented cluster\n",
    "In the bar plot above, we see that cluster 1 is represented in only about 6-7% of the general population data, but is represented in the customer data at around 25%. This suggests whoever is grouped into cluster one is highly overrepresented in the customer data.\n",
    "\n",
    "This cluster appears to skew toward males (ANREDE_KZ=1.06) between 46-60 (ALTERSKATEGORIE_GROB=3.27) who indicated a high interest in finance (FINANZ_MINIMALIST=4.79), and are generally in older families/mature couples(CAMEO_LIFE_STAGE=3.6) from properous households(CAMEO_WEALTH=2).\n",
    "\n",
    "It makes sense these individuals would be more likely to appear as customers of Arvato, mainly based on their propensity to be from properous households and to display an interest in finance.\n",
    "\n",
    "#### An underrepresented cluster\n",
    "In contrast, we see that cluster 0 is underrepresented in our customer dataset, because it holds about 10% of data in the population data, but only about 1% in the customer data.\n",
    "\n",
    "This cluster is more likely females (ANREDE_KZ=1.97) anywhere from \"<30 years old\" up to 45 years old (ALTERSKATEGORIE_GROB=1.78) who indicated low interest in finance (FINANZ_MINIMALIST=1.12) and tend to be young couples with children (CAMEO_LIFE_STAGE=2.15) from less affluent households (CAMEO_WEALTH=4.3).\n",
    "\n",
    "It likewise makes sense that individuals from less affluent households who demonstrate low financial interest wouldn't tend to be customers of Arvato.\n",
    "\n",
    "#### Gender, age, and the \"11th\" cluster\n",
    "Based on the representation between datasets in this clustering, it would appear that Arvato's customer base skews toward individuals between 46-60 years of age and who identify as male. \n",
    "\n",
    "However, it should be noted that we dropped a considerable amount of data from the customer set based on the same criteria we dropped from the general population set. It just so happens in the customer data, this was a proportionally larger amount. It's very possible that data from the other demographics was captured in this set, now represented in an \"11th\" cluster.\n",
    "\n",
    "Unfortunately, since our model doesn't actually have a 'cluster_center' for that \"cluster\", it's hard to reverse engineer the data in it to extrapolate the same patterns applied above. Further analysis would be required to determine what demographics are represented in that set."
   ]
  },
  {
   "cell_type": "markdown",
   "metadata": {},
   "source": [
    "## Conclusion\n",
    "\n",
    "Applying a clustering technique to data from a general population dataset in conjunction with customer data provided by Arvato, it would appear the customer-base is overrepresented by middle-aged males from prosperous households. \n",
    "\n",
    "If Arvato were looking to expand its customer-base, it might consider starting with an underrepresented demographic -- females aged 30-45 from less affluent households."
   ]
  },
  {
   "cell_type": "markdown",
   "metadata": {},
   "source": [
    "> Congratulations on making it this far in the project! Before you finish, make sure to check through the entire notebook from top to bottom to make sure that your analysis follows a logical flow and all of your findings are documented in **Discussion** cells. Once you've checked over all of your work, you should export the notebook as an HTML document to submit for evaluation. You can do this from the menu, navigating to **File -> Download as -> HTML (.html)**. You will submit both that document and this notebook for your project submission."
   ]
  },
  {
   "cell_type": "code",
   "execution_count": null,
   "metadata": {},
   "outputs": [],
   "source": []
  }
 ],
 "metadata": {
  "kernelspec": {
   "display_name": "Python 3",
   "language": "python",
   "name": "python3"
  },
  "language_info": {
   "codemirror_mode": {
    "name": "ipython",
    "version": 3
   },
   "file_extension": ".py",
   "mimetype": "text/x-python",
   "name": "python",
   "nbconvert_exporter": "python",
   "pygments_lexer": "ipython3",
   "version": "3.6.3"
  }
 },
 "nbformat": 4,
 "nbformat_minor": 2
}
